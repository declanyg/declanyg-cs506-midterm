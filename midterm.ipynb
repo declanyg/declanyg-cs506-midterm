{
  "cells": [
    {
      "cell_type": "markdown",
      "metadata": {
        "id": "sJ6-GfMuIIEk"
      },
      "source": [
        "# Libraries"
      ]
    },
    {
      "cell_type": "code",
      "execution_count": 1,
      "metadata": {
        "id": "_7SuO6EIIIEl",
        "colab": {
          "base_uri": "https://localhost:8080/"
        },
        "outputId": "68ac3690-2a82-414c-8319-911e8d027163"
      },
      "outputs": [
        {
          "output_type": "stream",
          "name": "stderr",
          "text": [
            "[nltk_data] Downloading package vader_lexicon to /root/nltk_data...\n",
            "[nltk_data]   Package vader_lexicon is already up-to-date!\n"
          ]
        }
      ],
      "source": [
        "import pickle\n",
        "import pandas as pd\n",
        "import seaborn as sns\n",
        "from os.path import exists\n",
        "import matplotlib.pyplot as plt\n",
        "from sklearn.neighbors import KNeighborsClassifier\n",
        "from sklearn.model_selection import train_test_split\n",
        "from sklearn.metrics import accuracy_score, confusion_matrix\n",
        "\n",
        "from nltk.sentiment import SentimentIntensityAnalyzer\n",
        "import nltk\n",
        "nltk.download('vader_lexicon')\n",
        "from sklearn.feature_extraction.text import TfidfVectorizer\n",
        "from sklearn.decomposition import TruncatedSVD\n",
        "from sklearn.decomposition import PCA\n",
        "from xgboost import XGBClassifier\n",
        "import numpy as np\n",
        "from sklearn.preprocessing import LabelEncoder"
      ]
    },
    {
      "cell_type": "markdown",
      "metadata": {
        "id": "BSXFBB05IIEm"
      },
      "source": [
        "# Loading the Files\n",
        "\n",
        "Download the csv files into the `data/` directory."
      ]
    },
    {
      "cell_type": "code",
      "source": [
        "from google.colab import drive\n",
        "drive.mount('/content/drive')"
      ],
      "metadata": {
        "colab": {
          "base_uri": "https://localhost:8080/"
        },
        "id": "_mB1iJBb8buD",
        "outputId": "e62f33c4-b7e5-4a85-9f27-3bc2766382a2"
      },
      "execution_count": 2,
      "outputs": [
        {
          "output_type": "stream",
          "name": "stdout",
          "text": [
            "Drive already mounted at /content/drive; to attempt to forcibly remount, call drive.mount(\"/content/drive\", force_remount=True).\n"
          ]
        }
      ]
    },
    {
      "cell_type": "code",
      "execution_count": 3,
      "metadata": {
        "colab": {
          "base_uri": "https://localhost:8080/",
          "height": 1000
        },
        "id": "b_Ul1L0lIIEm",
        "outputId": "4a3e2a93-4d5f-42e0-df8e-e47c08f877e6"
      },
      "outputs": [
        {
          "output_type": "stream",
          "name": "stdout",
          "text": [
            "train.csv shape is  (1697533, 9)\n",
            "test.csv shape is  (212192, 2)\n",
            "\n",
            "        Id   ProductId          UserId  HelpfulnessNumerator  \\\n",
            "0   914403  B0009W5KHM   AV6QDP8Q0ONK4                     2   \n",
            "1   354887  6303079709  A2I8RXJN80A2D2                     0   \n",
            "2  1407653  B004H0M2XC  A3FHV3RV8Z12E6                     0   \n",
            "3  1377458  B003ZJ9536  A12VLTA3ZHVPUY                     1   \n",
            "4   475323  630574453X  A13NM1PES9OXVN                     2   \n",
            "\n",
            "   HelpfulnessDenominator        Time  \\\n",
            "0                       2  1341014400   \n",
            "1                       0  1168819200   \n",
            "2                       0  1386201600   \n",
            "3                       1  1348704000   \n",
            "4                       3   970012800   \n",
            "\n",
            "                                         Summary  \\\n",
            "0                                  GOOD FUN FILM   \n",
            "1                                   Movie Review   \n",
            "2             When is it a good time to Consent?   \n",
            "3                                          TRUTH   \n",
            "4  Intelligent and bittersweet -- stays with you   \n",
            "\n",
            "                                                Text  Score  \n",
            "0  While most straight to DVD films are not worth...    5.0  \n",
            "1  I have wanted this one for sometime, also.  I ...    5.0  \n",
            "2  Actually this was a pretty darn good indie fil...    4.0  \n",
            "3  Episodes 37 to 72 of the series press on in a ...    5.0  \n",
            "4  I was really impressed with this movie, but wa...    3.0  \n",
            "\n",
            "        Id  Score\n",
            "0  1323432    NaN\n",
            "1  1137299    NaN\n",
            "2  1459366    NaN\n",
            "3   931601    NaN\n",
            "4  1311995    NaN\n",
            "\n",
            "                 Id  HelpfulnessNumerator  HelpfulnessDenominator  \\\n",
            "count  1.697533e+06          1.697533e+06            1.697533e+06   \n",
            "mean   8.487660e+05          3.569048e+00            5.301422e+00   \n",
            "std    4.900357e+05          1.727883e+01            2.024445e+01   \n",
            "min    0.000000e+00          0.000000e+00            0.000000e+00   \n",
            "25%    4.243830e+05          0.000000e+00            0.000000e+00   \n",
            "50%    8.487660e+05          1.000000e+00            1.000000e+00   \n",
            "75%    1.273149e+06          3.000000e+00            5.000000e+00   \n",
            "max    1.697532e+06          6.084000e+03            6.510000e+03   \n",
            "\n",
            "               Time         Score  \n",
            "count  1.697533e+06  1.485341e+06  \n",
            "mean   1.262422e+09  4.110517e+00  \n",
            "std    1.289277e+08  1.197651e+00  \n",
            "min    8.793792e+08  1.000000e+00  \n",
            "25%    1.164413e+09  4.000000e+00  \n",
            "50%    1.307491e+09  5.000000e+00  \n",
            "75%    1.373242e+09  5.000000e+00  \n",
            "max    1.406074e+09  5.000000e+00  \n"
          ]
        },
        {
          "output_type": "display_data",
          "data": {
            "text/plain": [
              "<Figure size 640x480 with 1 Axes>"
            ],
            "image/png": "[encoded data removed]"
          },
          "metadata": {}
        },
        {
          "output_type": "stream",
          "name": "stdout",
          "text": [
            "\n",
            "EVERYTHING IS PROPERLY SET UP! YOU ARE READY TO START\n"
          ]
        }
      ],
      "source": [
        "# trainingSet = pd.read_csv(\"./data/train.csv\")\n",
        "# testingSet = pd.read_csv(\"./data/test.csv\")\n",
        "trainingSet = pd.read_csv('/content/drive/MyDrive/CS506/midterm/data/train.csv')\n",
        "testingSet = pd.read_csv('/content/drive/MyDrive/CS506/midterm/data/test.csv')\n",
        "\n",
        "print(\"train.csv shape is \", trainingSet.shape)\n",
        "print(\"test.csv shape is \", testingSet.shape)\n",
        "\n",
        "print()\n",
        "\n",
        "print(trainingSet.head())\n",
        "print()\n",
        "print(testingSet.head())\n",
        "\n",
        "print()\n",
        "\n",
        "print(trainingSet.describe())\n",
        "\n",
        "trainingSet['Score'].value_counts().plot(kind='bar', legend=True, alpha=.5)\n",
        "plt.show()\n",
        "\n",
        "print()\n",
        "print(\"EVERYTHING IS PROPERLY SET UP! YOU ARE READY TO START\")"
      ]
    },
    {
      "cell_type": "markdown",
      "metadata": {
        "id": "TmnQZp6iIIEn"
      },
      "source": [
        "# Adding Features"
      ]
    },
    {
      "cell_type": "code",
      "execution_count": 4,
      "metadata": {
        "id": "k7P3ztZ5IIEn"
      },
      "outputs": [],
      "source": [
        "def add_features_to(df):\n",
        "    # This is where you can do all your feature extraction\n",
        "\n",
        "    df['Helpfulness'] = df['HelpfulnessNumerator'] / df['HelpfulnessDenominator']\n",
        "    df['Helpfulness'] = df['Helpfulness'].fillna(0)\n",
        "\n",
        "    df['Time'] = pd.to_datetime(df['Time'], unit='s')\n",
        "    df['Year'] = df['Time'].dt.year\n",
        "\n",
        "    # label_encoder = LabelEncoder()\n",
        "    # df['UserId'] = label_encoder.fit_transform(df['UserId'])\n",
        "    # df['Month'] = df['Time'].dt.month\n",
        "    # df['Day'] = df['Time'].dt.day\n",
        "    # df['Month_sin'] = np.sin(2 * np.pi * df['Month'] / 12)\n",
        "    # df['Month_cos'] = np.cos(2 * np.pi * df['Month'] / 12)\n",
        "    # df['Day_sin'] = np.sin(2 * np.pi * df['Day'] / 31)\n",
        "    # df['Day_cos'] = np.cos(2 * np.pi * df['Day'] / 31)\n",
        "\n",
        "    df[\"Review Length\"] = df[\"Text\"].fillna(\"\").apply(len)\n",
        "\n",
        "    df[\"User Average Review Score\"] = df.groupby('UserId')['Score'].transform('mean')\n",
        "\n",
        "    sia = SentimentIntensityAnalyzer()\n",
        "    if exists('/content/drive/MyDrive/CS506/midterm/data/Vader_train_summary.csv'):\n",
        "      vader_df = pd.read_csv('/content/drive/MyDrive/CS506/midterm/data/Vader_train_summary.csv')\n",
        "      df[['Vader_neg_summary', 'Vader_pos_summary', 'Vader_compound_summary']] = vader_df[['Vader_neg', 'Vader_pos', 'Vader_compound']]\n",
        "    else:\n",
        "      df[['Vader_neg_summary', 'Vader_neu_summary', 'Vader_pos_summary', 'Vader_compound_summary']] = df['Summary'].fillna('').apply(lambda x: pd.Series(sia.polarity_scores(x)))\n",
        "      df[['Vader_neg_summary', 'Vader_neu_summary', 'Vader_pos_summary', 'Vader_compound_summary']].to_csv(\"/content/drive/MyDrive/CS506/midterm/data/Vader_train_summary.csv\", index=False)\n",
        "\n",
        "    if exists('/content/drive/MyDrive/CS506/midterm/data/Vader_train_text.csv'):\n",
        "      vader_df = pd.read_csv('/content/drive/MyDrive/CS506/midterm/data/Vader_train_text.csv')\n",
        "      df[['Vader_neg_text', 'Vader_pos_text', 'Vader_compound_text']] = vader_df[['Vader_neg_text', 'Vader_pos_text', 'Vader_compound_text']]\n",
        "    else:\n",
        "      df[['Vader_neg_text', 'Vader_neu_text', 'Vader_pos_text', 'Vader_compound_text']] = df['Text'].fillna('').apply(lambda x: pd.Series(sia.polarity_scores(x)))\n",
        "      df[['Vader_neg_text', 'Vader_neu_text', 'Vader_pos_text', 'Vader_compound_text']].to_csv(\"/content/drive/MyDrive/CS506/midterm/data/Vader_train_text.csv\", index=False)\n",
        "\n",
        "\n",
        "    vectorizer = TfidfVectorizer(max_features=1000, stop_words='english')\n",
        "    tfidf_matrix = vectorizer.fit_transform(df['Summary'].fillna(''))\n",
        "    tfidf_df = pd.DataFrame(tfidf_matrix.toarray(), columns=vectorizer.get_feature_names_out())\n",
        "    tfidf_df.fillna(0, inplace=True)\n",
        "\n",
        "    svd_model = TruncatedSVD(n_components=250)\n",
        "\n",
        "    svd_matrix = svd_model.fit_transform(tfidf_df)\n",
        "    svd_df = pd.DataFrame(svd_matrix, columns=[f'SVD_Component_{i+1}' for i in range(svd_matrix.shape[1])])\n",
        "\n",
        "    # pca_model = PCA(n_components=0.99)\n",
        "    # pca_matrix = pca_model.fit_transform(tfidf_df)\n",
        "\n",
        "    # pca_df = pd.DataFrame(pca_matrix, columns=[f'PCA_{i+1}' for i in range(pca_matrix.shape[1])])\n",
        "\n",
        "    df_with_vectors = pd.concat([df.reset_index(drop=True), svd_df.reset_index(drop=True)], axis=1)\n",
        "\n",
        "    return df_with_vectors\n",
        "\n",
        "# Load the feature extracted files if they've already been generated\n",
        "# if exists('./data/X_train.csv'):\n",
        "#     X_train = pd.read_csv(\"./data/X_train.csv\")\n",
        "# if exists('./data/X_submission.csv'):\n",
        "#     X_submission = pd.read_csv(\"./data/X_submission.csv\")\n",
        "if exists('/content/drive/MyDrive/CS506/midterm/data/X_train.csv'):\n",
        "    X_train = pd.read_csv(\"/content/drive/MyDrive/CS506/midterm/data/X_train.csv\")\n",
        "if exists('/content/drive/MyDrive/CS506/midterm/data/X_submission.csv'):\n",
        "    X_submission = pd.read_csv(\"/content/drive/MyDrive/CS506/midterm/data/X_submission.csv\")\n",
        "\n",
        "else:\n",
        "    # Process the DataFrame\n",
        "    train = add_features_to(trainingSet)\n",
        "\n",
        "    # Merge on Id so that the submission set can have feature columns as well\n",
        "    X_submission = pd.merge(train, testingSet, left_on='Id', right_on='Id')\n",
        "    X_submission = X_submission.drop(columns=['Score_x'])\n",
        "    X_submission = X_submission.rename(columns={'Score_y': 'Score'})\n",
        "\n",
        "    # The training set is where the score is not null\n",
        "    X_train =  train[train['Score'].notnull()]\n",
        "\n",
        "    # X_submission.to_csv(\"./data/X_submission.csv\", index=False)\n",
        "    # X_train.to_csv(\"./data/X_train.csv\", index=False)"
      ]
    },
    {
      "cell_type": "markdown",
      "metadata": {
        "id": "WUAcswW9IIEn"
      },
      "source": [
        "# Sample + Split into training and testing set"
      ]
    },
    {
      "cell_type": "code",
      "execution_count": 5,
      "metadata": {
        "id": "LUbwoSFoIIEn"
      },
      "outputs": [],
      "source": [
        "# from imblearn.under_sampling import RandomUnderSampler\n",
        "# from imblearn.over_sampling import RandomOverSampler\n",
        "# Split training set into training and testing set\n",
        "X_train, X_test, Y_train, Y_test = train_test_split(\n",
        "    X_train.drop(columns=['Score']),\n",
        "    X_train['Score'],\n",
        "    test_size=1/4.0,\n",
        "    random_state=0\n",
        ")"
      ]
    },
    {
      "cell_type": "markdown",
      "metadata": {
        "id": "bcBio4pqIIEn"
      },
      "source": [
        "# Feature Selection"
      ]
    },
    {
      "cell_type": "code",
      "execution_count": 6,
      "metadata": {
        "id": "TOQkXxj9IIEn"
      },
      "outputs": [],
      "source": [
        "# features = ['Helpfulness', 'HelpfulnessNumerator', 'HelpfulnessDenominator', 'Vader_score_summary', 'Vader_score_text']\n",
        "\n",
        "# X_train_select = X_train[features]\n",
        "# X_test_select = X_test[features]\n",
        "# X_submission_select = X_submission[features]\n",
        "columns_to_drop = ['ProductId', 'Time', 'UserId', 'Summary', 'Text', 'Id', 'HelpfulnessNumerator']\n",
        "X_train_select = X_train.drop(columns=columns_to_drop)\n",
        "X_test_select = X_test.drop(columns=columns_to_drop)\n",
        "X_submission_select = X_submission.drop(columns=(columns_to_drop+['Score']))"
      ]
    },
    {
      "cell_type": "markdown",
      "metadata": {
        "id": "TAkVGnnFIIEo"
      },
      "source": [
        "# Model Creation"
      ]
    },
    {
      "cell_type": "code",
      "execution_count": 7,
      "metadata": {
        "id": "P3seDJpzIIEo",
        "colab": {
          "base_uri": "https://localhost:8080/"
        },
        "outputId": "c5bbf5cd-6e41-424f-faea-2faccdd580cc"
      },
      "outputs": [
        {
          "output_type": "stream",
          "name": "stderr",
          "text": [
            "/usr/local/lib/python3.10/dist-packages/xgboost/core.py:158: UserWarning: [18:01:32] WARNING: /workspace/src/common/error_msg.cc:58: Falling back to prediction using DMatrix due to mismatched devices. This might lead to higher memory usage and slower performance. XGBoost is running on: cuda:0, while the input data is on: cpu.\n",
            "Potential solutions:\n",
            "- Use a data structure that matches the device ordinal in the booster.\n",
            "- Set the device for booster before call to inplace_predict.\n",
            "\n",
            "This warning will only be shown once.\n",
            "\n",
            "  warnings.warn(smsg, UserWarning)\n"
          ]
        }
      ],
      "source": [
        "# Learn the model\n",
        "\n",
        "model = XGBClassifier(tree_method = \"hist\", device = \"cuda\", random_state=0).fit(X_train_select, Y_train.astype(int) - 1)\n",
        "\n",
        "# Predict the score using the model\n",
        "Y_test_predictions = model.predict(X_test_select) + 1"
      ]
    },
    {
      "cell_type": "code",
      "execution_count": 8,
      "metadata": {
        "id": "MVnw1H0tIIEo",
        "colab": {
          "base_uri": "https://localhost:8080/",
          "height": 490
        },
        "outputId": "a88423af-60d1-433c-f22b-301c74f82653"
      },
      "outputs": [
        {
          "output_type": "stream",
          "name": "stdout",
          "text": [
            "Accuracy on testing set =  0.6411417153198181\n"
          ]
        },
        {
          "output_type": "display_data",
          "data": {
            "text/plain": [
              "<Figure size 640x480 with 2 Axes>"
            ],
            "image/png": "[encoded data removed]"
          },
          "metadata": {}
        }
      ],
      "source": [
        "# Evaluate your model on the testing set\n",
        "print(\"Accuracy on testing set = \", accuracy_score(Y_test, Y_test_predictions))\n",
        "\n",
        "# Plot a confusion matrix\n",
        "cm = confusion_matrix(Y_test, Y_test_predictions, normalize='true')\n",
        "sns.heatmap(cm, annot=True)\n",
        "plt.title('Confusion matrix of the classifier')\n",
        "plt.xlabel('Predicted')\n",
        "plt.ylabel('True')\n",
        "plt.show()"
      ]
    },
    {
      "cell_type": "markdown",
      "metadata": {
        "id": "ixQaDs1SIIEo"
      },
      "source": [
        "# Create submission file"
      ]
    },
    {
      "cell_type": "code",
      "source": [
        "print(\"Accuracy on training set = \", accuracy_score(Y_train.astype(int) - 1, model.predict(X_train_select)))"
      ],
      "metadata": {
        "colab": {
          "base_uri": "https://localhost:8080/"
        },
        "id": "GGDx6ATX9MCZ",
        "outputId": "924c2ec8-ddad-4faa-ca2f-c7bd935942ad"
      },
      "execution_count": 9,
      "outputs": [
        {
          "output_type": "stream",
          "name": "stdout",
          "text": [
            "Accuracy on training set =  0.6597304320896226\n"
          ]
        }
      ]
    },
    {
      "cell_type": "code",
      "execution_count": 10,
      "metadata": {
        "id": "Hvhxdts2IIEo"
      },
      "outputs": [],
      "source": [
        "# Create the submission file\n",
        "X_submission['Score'] = (model.predict(X_submission_select) + 1).astype('float64')\n",
        "submission = X_submission[['Id', 'Score']]\n",
        "submission.to_csv(\"./data/submission.csv\", index=False)"
      ]
    }
  ],
  "metadata": {
    "kernelspec": {
      "display_name": "Python 3",
      "name": "python3"
    },
    "language_info": {
      "codemirror_mode": {
        "name": "ipython",
        "version": 3
      },
      "file_extension": ".py",
      "mimetype": "text/x-python",
      "name": "python",
      "nbconvert_exporter": "python",
      "pygments_lexer": "ipython3",
      "version": "3.12.3"
    },
    "colab": {
      "provenance": [],
      "machine_shape": "hm",
      "gpuType": "L4"
    },
    "accelerator": "GPU"
  },
  "nbformat": 4,
  "nbformat_minor": 0
}